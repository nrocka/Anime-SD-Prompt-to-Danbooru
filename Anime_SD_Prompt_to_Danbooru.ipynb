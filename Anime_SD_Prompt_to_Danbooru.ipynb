{
  "nbformat": 4,
  "nbformat_minor": 0,
  "metadata": {
    "colab": {
      "provenance": [],
      "authorship_tag": "ABX9TyMzfkb1XB1HnOzEee9P3bvW",
      "include_colab_link": true
    },
    "kernelspec": {
      "name": "python3",
      "display_name": "Python 3"
    },
    "language_info": {
      "name": "python"
    }
  },
  "cells": [
    {
      "cell_type": "markdown",
      "metadata": {
        "id": "view-in-github",
        "colab_type": "text"
      },
      "source": [
        "<a href=\"https://colab.research.google.com/github/nrocka/Anime-SD-Prompt-to-Danbooru/blob/main/Anime_SD_Prompt_to_Danbooru.ipynb\" target=\"_parent\"><img src=\"https://colab.research.google.com/assets/colab-badge.svg\" alt=\"Open In Colab\"/></a>"
      ]
    },
    {
      "cell_type": "markdown",
      "source": [
        "## 🟥🟥🟥 **Preperation** 🟥🟥🟥"
      ],
      "metadata": {
        "id": "goyQcBv3oxpu"
      }
    },
    {
      "cell_type": "code",
      "execution_count": null,
      "metadata": {
        "cellView": "form",
        "id": "0q8gZwtneHFU"
      },
      "outputs": [],
      "source": [
        "# Import Cell\n",
        "# @title 0️⃣ Import Dependencies\n",
        "# @markdown This cell contains all necessary imports.\n",
        "import re\n",
        "import requests\n",
        "import pandas as pd\n",
        "from IPython.display import display, HTML, Javascript"
      ]
    },
    {
      "cell_type": "code",
      "source": [
        "# Global Parameters Cell\n",
        "# @title ✨ Global Parameters used throughout the notebook\n",
        "# @markdown This parameter defines the maximum number of characters allowed before inserting a newline, making the output more readable on different window sizes. (Will not affect \"Copy to Clipboard\")\n",
        "newline_threshold = 240 # @param {type:\"integer\"}\n",
        "\n",
        "# @markdown This parameter decides whether a newline should cut off only after completing a tag or directly after reaching the threshold. (Will not affect \"Copy to Clipboard\")\n",
        "only_cut_after_complete_tags = True # @param {type:\"boolean\"}"
      ],
      "metadata": {
        "cellView": "form",
        "id": "LgmI1i-QqseL"
      },
      "execution_count": null,
      "outputs": []
    },
    {
      "cell_type": "markdown",
      "source": [
        "## 🟩🟩🟩 **Prompt Editor** 🟩🟩🟩"
      ],
      "metadata": {
        "id": "Dbcf91Wfo9RA"
      }
    },
    {
      "cell_type": "code",
      "source": [
        "# First Cell: Clean Up Prompt\n",
        "# @title 1️⃣ Clean Up Prompt\n",
        "# @markdown This cell removes unwanted text inside chevrons and cleans up the prompt.\n",
        "\n",
        "input_prompt = \"\" # @param {type:\"string\"}\n",
        "\n",
        "def clean_up_prompt(input_prompt):\n",
        "    # 1. Remove chevrons (< and >) and all text inside them\n",
        "    cleaned_prompt = re.sub(r'<.*?>', '', input_prompt)\n",
        "\n",
        "    # 2. Remove weights from tags in brackets, e.g., (solo, 1girl:1.3) -> (solo, 1girl)\n",
        "    cleaned_prompt = re.sub(r'\\(([^:]*):[^\\)]*\\)', r'(\\1)', cleaned_prompt)\n",
        "\n",
        "    # 3. Remove all brackets ( ), but exclude brackets with slashes in front.\n",
        "    cleaned_prompt = re.sub(r'(?<!/)\\(', '', cleaned_prompt)\n",
        "    cleaned_prompt = re.sub(r'(?<!/)\\)', '', cleaned_prompt)\n",
        "\n",
        "    # 4. Remove any double spaces between tags\n",
        "    cleaned_prompt = re.sub(r'\\s{2,}', ' ', cleaned_prompt)\n",
        "\n",
        "\n",
        "    return cleaned_prompt\n",
        "\n",
        "cleaned_prompt = clean_up_prompt(input_prompt)\n",
        "print(\"Cleaned Prompt:\")\n",
        "\n",
        "if only_cut_after_complete_tags:\n",
        "    output_lines = []\n",
        "    current_line = \"\"\n",
        "for tag in cleaned_prompt.split(', '):\n",
        "    if len(current_line) + len(tag) + 2 <= newline_threshold:\n",
        "        current_line += (', ' if current_line else '') + tag\n",
        "    else:\n",
        "        current_line = current_line.rstrip(', ') + ','  # Make sure last tag in line ends with a comma\n",
        "        output_lines.append(current_line)\n",
        "        current_line = tag\n",
        "if current_line:\n",
        "    current_line = current_line.rstrip(', ')  # Remove any trailing commas after processing all lines\n",
        "    output_lines.append(current_line)\n",
        "    cleaned_output = '\\n'.join(output_lines)\n",
        "else:\n",
        "    cleaned_output = '\\n'.join([cleaned_prompt[i:i + newline_threshold] for i in range(0, len(cleaned_prompt), newline_threshold)])\n",
        "\n",
        "print(cleaned_output)\n",
        "\n",
        "display(HTML(f\"\"\"\n",
        "    <button onclick=\"navigator.clipboard.writeText('{cleaned_prompt}')\">Copy to Clipboard</button>\n",
        "\"\"\"))"
      ],
      "metadata": {
        "colab": {
          "base_uri": "https://localhost:8080/",
          "height": 107
        },
        "cellView": "form",
        "id": "uw-wIm8mingY",
        "outputId": "7dad1264-d6e1-4450-b7cc-46773d77261b"
      },
      "execution_count": 81,
      "outputs": [
        {
          "output_type": "stream",
          "name": "stdout",
          "text": [
            "Cleaned Prompt:\n",
            "score_9, score_8_up, score_7_up, re :zero, re: zero, re:zero, source_anime, asuna /(sao/), 1girl, solo, ushio kofune, long hair, blue eyes, blonde hair, very long hair, straight hair, forehead, jewelry, collarbone, swimsuit, necklace,\n",
            "one-piece swimsuit, school swimsuit, blue one-piece swimsuit, competition school swimsuit, shell necklace, one-piece swimsuit pull, pulled by self, undressing, bare shoulders, nipples, smirk, smile, medium breasts, breasts out, ocean, water,\n",
            "blue sky, cloudy sky\n"
          ]
        },
        {
          "output_type": "display_data",
          "data": {
            "text/plain": [
              "<IPython.core.display.HTML object>"
            ],
            "text/html": [
              "\n",
              "    <button onclick=\"navigator.clipboard.writeText('score_9, score_8_up, score_7_up, re :zero, re: zero, re:zero, source_anime, asuna /(sao/), 1girl, solo, ushio kofune, long hair, blue eyes, blonde hair, very long hair, straight hair, forehead, jewelry, collarbone, swimsuit, necklace, one-piece swimsuit, school swimsuit, blue one-piece swimsuit, competition school swimsuit, shell necklace, one-piece swimsuit pull, pulled by self, undressing, bare shoulders, nipples, smirk, smile, medium breasts, breasts out, ocean, water, blue sky, cloudy sky,')\">Copy to Clipboard</button>\n"
            ]
          },
          "metadata": {}
        }
      ]
    },
    {
      "cell_type": "markdown",
      "source": [
        "\n",
        "\n",
        "\n",
        "\n",
        "---\n",
        "\n",
        "\n"
      ],
      "metadata": {
        "id": "cROH-Eam2NkH"
      }
    },
    {
      "cell_type": "code",
      "source": [
        "# Second Cell: Remove Quality, Source and Score Tags\n",
        "# @title 2️⃣ Remove Quality, Source, and Score Tags\n",
        "# @markdown This cell removes score_, source_, quality tags, and date tags.\n",
        "\n",
        "def remove_quality_source_tags(cleaned_prompt):\n",
        "    # 1. Remove all score_ and source_ prompts\n",
        "    cleaned_prompt = re.sub(r'\\b(score_|source_)[^,\\s]*[\\s,]*', '', cleaned_prompt)\n",
        "\n",
        "    # 2. Remove all quality tags used by danbooru\n",
        "    quality_tags = [\"masterpiece\", \"best quality\"]\n",
        "    for tag in quality_tags:\n",
        "        cleaned_prompt = cleaned_prompt.replace(tag, '')\n",
        "\n",
        "    # 3. Remove all date tags like Year Range\n",
        "    date_tags = [\"old\", \"early\", \"mid\", \"recent\", \"newest\"]\n",
        "    for tag in date_tags:\n",
        "        cleaned_prompt = cleaned_prompt.replace(tag, '')\n",
        "\n",
        "    # Clean up extra spaces and commas left behind\n",
        "    cleaned_prompt = re.sub(r',\\s*', ', ', cleaned_prompt).strip(', ')  # Remove trailing commas\n",
        "    cleaned_prompt = re.sub(r'\\s+', ' ', cleaned_prompt).strip()  # Remove excess spaces\n",
        "\n",
        "    return cleaned_prompt\n",
        "\n",
        "cleaned_prompt = remove_quality_source_tags(cleaned_prompt)\n",
        "if only_cut_after_complete_tags:\n",
        "    output_lines = []\n",
        "    current_line = \"\"\n",
        "for tag in cleaned_prompt.split(', '):\n",
        "    if len(current_line) + len(tag) + 2 <= newline_threshold:\n",
        "        current_line += (', ' if current_line else '') + tag\n",
        "    else:\n",
        "        current_line = current_line.rstrip(', ') + ','  # Make sure last tag in line ends with a comma\n",
        "        output_lines.append(current_line)\n",
        "        current_line = tag\n",
        "if current_line:\n",
        "    current_line = current_line.rstrip(', ')  # Remove any trailing commas after processing all lines\n",
        "    output_lines.append(current_line)\n",
        "    cleaned_output = '\\n'.join(output_lines)\n",
        "else:\n",
        "    cleaned_output = '\\n'.join([cleaned_prompt[i:i + newline_threshold] for i in range(0, len(cleaned_prompt), newline_threshold)])\n",
        "\n",
        "print(cleaned_output)\n",
        "\n",
        "display(HTML(f\"\"\"\n",
        "    <button onclick=\"navigator.clipboard.writeText('{cleaned_prompt}')\">Copy to Clipboard</button>\n",
        "\"\"\"))"
      ],
      "metadata": {
        "colab": {
          "base_uri": "https://localhost:8080/",
          "height": 55
        },
        "cellView": "form",
        "id": "fXynX0bSirV1",
        "outputId": "ae871c22-c443-499f-8d80-bbb74e1729bc"
      },
      "execution_count": 60,
      "outputs": [
        {
          "output_type": "stream",
          "name": "stdout",
          "text": [
            "\n"
          ]
        },
        {
          "output_type": "display_data",
          "data": {
            "text/plain": [
              "<IPython.core.display.HTML object>"
            ],
            "text/html": [
              "\n",
              "    <button onclick=\"navigator.clipboard.writeText('')\">Copy to Clipboard</button>\n"
            ]
          },
          "metadata": {}
        }
      ]
    },
    {
      "cell_type": "markdown",
      "source": [
        "\n",
        "\n",
        "---\n",
        "\n"
      ],
      "metadata": {
        "id": "BscheHmA2UdN"
      }
    },
    {
      "cell_type": "code",
      "source": [
        "# Third Cell: Format to Danbooru Input\n",
        "# @title 3️⃣ Format to Danbooru Input\n",
        "# @markdown This cell replaces spaces in tags with underscores and removes commas.\n",
        "\n",
        "def format_to_danbooru_input(cleaned_prompt):\n",
        "    # 1. Replace the spaces in every individual tag with underscores (_)\n",
        "    tags = cleaned_prompt.split(', ')\n",
        "    tags = [tag.strip().replace(' ', '_') for tag in tags]\n",
        "\n",
        "    # 2. Remove every comma\n",
        "    formatted_prompt = ' '.join(tags)\n",
        "\n",
        "    return formatted_prompt\n",
        "\n",
        "formatted_prompt = format_to_danbooru_input(cleaned_prompt)\n",
        "print(\"Formatted Prompt for Danbooru:\")\n",
        "\n",
        "if only_cut_after_complete_tags:\n",
        "    output_lines = []\n",
        "    current_line = \"\"\n",
        "    for tag in formatted_prompt.split(' '):\n",
        "        if len(current_line) + len(tag) + 1 <= newline_threshold:  # Use 1 instead of 2 since there's no comma\n",
        "            current_line += (' ' if current_line else '') + tag\n",
        "        else:\n",
        "            output_lines.append(current_line)\n",
        "            current_line = tag\n",
        "    if current_line:\n",
        "        output_lines.append(current_line)\n",
        "    formatted_output = '\\n'.join(output_lines)\n",
        "else:\n",
        "    formatted_output = '\\n'.join([formatted_prompt[i:i + newline_threshold] for i in range(0, len(formatted_prompt), newline_threshold)])\n",
        "\n",
        "print(formatted_output)\n",
        "\n",
        "display(HTML(f\"\"\"\n",
        "    <button onclick=\"navigator.clipboard.writeText('{formatted_prompt}')\">Copy to Clipboard</button>\n",
        "\"\"\"))"
      ],
      "metadata": {
        "colab": {
          "base_uri": "https://localhost:8080/",
          "height": 73
        },
        "cellView": "form",
        "id": "iaN4Phhzjl_K",
        "outputId": "5377f3c5-8935-422e-d599-86559743247b"
      },
      "execution_count": 61,
      "outputs": [
        {
          "output_type": "stream",
          "name": "stdout",
          "text": [
            "Formatted Prompt for Danbooru:\n",
            "\n"
          ]
        },
        {
          "output_type": "display_data",
          "data": {
            "text/plain": [
              "<IPython.core.display.HTML object>"
            ],
            "text/html": [
              "\n",
              "    <button onclick=\"navigator.clipboard.writeText('')\">Copy to Clipboard</button>\n"
            ]
          },
          "metadata": {}
        }
      ]
    },
    {
      "cell_type": "markdown",
      "source": [
        "\n",
        "\n",
        "---\n",
        "\n"
      ],
      "metadata": {
        "id": "BwA5pCfv2Wh2"
      }
    },
    {
      "cell_type": "code",
      "source": [
        "# Fourth Cell: List Unknown Tags\n",
        "# @title 4️⃣ List unsupported and unknown Tags\n",
        "# @markdown This cell lists unsupported or deprecated tags based on a CSV file containing selected tags. Chose the output:\n",
        "\n",
        "output_option = \"A - Only return unsupported and unknown tags\" # @param [\"A - Only return unsupported and unknown tags\", \"B - Return set of tags without unsupported and unknown tags\", \"C - Both A and B\"]\n",
        "\n",
        "def check_tags_against_csv(formatted_prompt, option):\n",
        "    # Load selected tags from CSV\n",
        "    # @markdown Chose a custom CSV to compare your tags to. A Tag will be listed as unsupported if it can't be found inside this CSV.\n",
        "    # Default = https://huggingface.co/SmilingWolf/wd-vit-large-tagger-v3/raw/main/selected_tags.csv\n",
        "    csv_url = \"https://huggingface.co/SmilingWolf/wd-vit-large-tagger-v3/raw/main/selected_tags.csv\" # @param {type:\"string\"}\n",
        "    url = csv_url\n",
        "    selected_tags = pd.read_csv(url)['name'].tolist()\n",
        "\n",
        "    # Split tags from formatted prompt\n",
        "    tags = formatted_prompt.split(' ')\n",
        "\n",
        "    unsupported_tags = []\n",
        "    supported_tags = []\n",
        "\n",
        "    # Check each tag against the list of selected tags\n",
        "    for tag in tags:\n",
        "        if tag not in selected_tags:\n",
        "            unsupported_tags.append(tag)\n",
        "        else:\n",
        "            supported_tags.append(tag)\n",
        "\n",
        "    if option == \"A\" or option == \"C\":\n",
        "        # Only return unsupported and unknown tags\n",
        "        if unsupported_tags:\n",
        "            unsupported_output = \"Unsupported Tags: \" + ', '.join(unsupported_tags)\n",
        "\n",
        "            if only_cut_after_complete_tags:\n",
        "                output_lines = []\n",
        "                current_line = \"\"\n",
        "                for tag in unsupported_tags:\n",
        "                    if len(current_line) + len(tag) + 2 <= newline_threshold:\n",
        "                        current_line += (', ' if current_line else '') + tag\n",
        "                    else:\n",
        "                        output_lines.append(current_line)\n",
        "                        current_line = tag\n",
        "                if current_line:\n",
        "                    output_lines.append(current_line)\n",
        "                unsupported_output = '\\n'.join(output_lines)\n",
        "            else:\n",
        "                unsupported_output = '\\n'.join([unsupported_output[i:i + newline_threshold] for i in range(0, len(unsupported_output), newline_threshold)])\n",
        "\n",
        "            print(\"Unsupported Tags:\")\n",
        "            print(unsupported_output)\n",
        "            display(HTML(f\"\"\"\n",
        "                <button onclick=\"navigator.clipboard.writeText('{', '.join(unsupported_tags)}')\">Copy to Clipboard</button>\n",
        "            \"\"\"))\n",
        "        else:\n",
        "            print(\"No unsupported tags found.\")\n",
        "\n",
        "    if option == \"B\" or option == \"C\":\n",
        "        # Return set of tags without unsupported and unknown tags\n",
        "        if supported_tags:\n",
        "            supported_output = \"Supported Tags: \" + ', '.join(supported_tags)\n",
        "\n",
        "            if only_cut_after_complete_tags:\n",
        "                output_lines = []\n",
        "                current_line = \"\"\n",
        "                for tag in supported_tags:\n",
        "                    if len(current_line) + len(tag) + 2 <= newline_threshold:\n",
        "                        current_line += (', ' if current_line else '') + tag\n",
        "                    else:\n",
        "                        output_lines.append(current_line)\n",
        "                        current_line = tag\n",
        "                if current_line:\n",
        "                    output_lines.append(current_line)\n",
        "                supported_output = '\\n'.join(output_lines)\n",
        "            else:\n",
        "                supported_output = '\\n'.join([supported_output[i:i + newline_threshold] for i in range(0, len(supported_output), newline_threshold)])\n",
        "\n",
        "            print(\"Supported Tags:\")\n",
        "            print(supported_output)\n",
        "            display(HTML(f\"\"\"\n",
        "                <button onclick=\"navigator.clipboard.writeText('{', '.join(supported_tags)}')\">Copy to Clipboard</button>\n",
        "            \"\"\"))\n",
        "\n",
        "# Use the formatted prompt from the previous cell\n",
        "check_tags_against_csv(formatted_prompt, output_option)\n"
      ],
      "metadata": {
        "cellView": "form",
        "id": "fNlo2ijRjpE-"
      },
      "execution_count": 62,
      "outputs": []
    },
    {
      "cell_type": "markdown",
      "source": [
        "\n",
        "\n",
        "---\n",
        "\n"
      ],
      "metadata": {
        "id": "MgWVc_Kt2X1T"
      }
    },
    {
      "cell_type": "code",
      "source": [
        "# Clear Inputs/Outputs Cell\n",
        "# @title ✨ Clear All Inputs and Outputs\n",
        "# @markdown This cell resets all inputs and outputs to a clean state.\n",
        "\n",
        "def clear_all():\n",
        "    global input_prompt, cleaned_prompt, formatted_prompt\n",
        "    input_prompt = \"\"\n",
        "    cleaned_prompt = \"\"\n",
        "    formatted_prompt = \"\"\n",
        "    print(\"All inputs and outputs have been cleared.\")\n",
        "\n",
        "clear_all()"
      ],
      "metadata": {
        "colab": {
          "base_uri": "https://localhost:8080/"
        },
        "cellView": "form",
        "id": "0frpiww8lWFd",
        "outputId": "51c4a99b-8632-4ab5-97a3-bb02de441f11"
      },
      "execution_count": 63,
      "outputs": [
        {
          "output_type": "stream",
          "name": "stdout",
          "text": [
            "All inputs and outputs have been cleared.\n"
          ]
        }
      ]
    }
  ]
}