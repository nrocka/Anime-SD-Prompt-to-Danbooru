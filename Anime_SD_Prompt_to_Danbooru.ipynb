{
  "nbformat": 4,
  "nbformat_minor": 0,
  "metadata": {
    "colab": {
      "provenance": [],
      "authorship_tag": "ABX9TyNtJIoLRuZCEE2QEnVA4FCR",
      "include_colab_link": true
    },
    "kernelspec": {
      "name": "python3",
      "display_name": "Python 3"
    },
    "language_info": {
      "name": "python"
    }
  },
  "cells": [
    {
      "cell_type": "markdown",
      "metadata": {
        "id": "view-in-github",
        "colab_type": "text"
      },
      "source": [
        "<a href=\"https://colab.research.google.com/github/nrocka/Anime-SD-Prompt-to-Danbooru/blob/main/Anime_SD_Prompt_to_Danbooru.ipynb\" target=\"_parent\"><img src=\"https://colab.research.google.com/assets/colab-badge.svg\" alt=\"Open In Colab\"/></a>"
      ]
    },
    {
      "cell_type": "markdown",
      "source": [
        "I am not a programmer at all, so im lacking a lot of knowledge. This thing was built entirely using a Chatbot AI. You will probably notice. The cells do work though (as far as i was able to test)"
      ],
      "metadata": {
        "id": "y9tsMAezV0LK"
      }
    },
    {
      "cell_type": "markdown",
      "source": [
        "## 🟥🟥🟥 **Preperation** 🟥🟥🟥"
      ],
      "metadata": {
        "id": "goyQcBv3oxpu"
      }
    },
    {
      "cell_type": "code",
      "execution_count": null,
      "metadata": {
        "cellView": "form",
        "id": "0q8gZwtneHFU"
      },
      "outputs": [],
      "source": [
        "# Import Cell\n",
        "# @title 0️⃣ Import Dependencies\n",
        "# @markdown This cell contains all necessary imports.\n",
        "import re\n",
        "import requests\n",
        "import pandas as pd\n",
        "from IPython.display import display, HTML, Javascript"
      ]
    },
    {
      "cell_type": "code",
      "source": [
        "# Global Parameters Cell\n",
        "# @title ✨ Global Parameters used throughout the notebook\n",
        "# @markdown This parameter defines the maximum number of characters allowed before inserting a newline, making the output more readable on different window sizes. (Will not affect \"Copy to Clipboard\")\n",
        "newline_threshold = 240 # @param {type:\"integer\"}\n",
        "\n",
        "# @markdown This parameter decides whether a newline should cut off only after completing a tag or directly after reaching the threshold. (Will not affect \"Copy to Clipboard\")\n",
        "only_cut_after_complete_tags = True # @param {type:\"boolean\"}"
      ],
      "metadata": {
        "cellView": "form",
        "id": "LgmI1i-QqseL"
      },
      "execution_count": 165,
      "outputs": []
    },
    {
      "cell_type": "markdown",
      "source": [
        "## 🟩🟩🟩 **Prompt Editor** 🟩🟩🟩"
      ],
      "metadata": {
        "id": "Dbcf91Wfo9RA"
      }
    },
    {
      "cell_type": "code",
      "source": [
        "# First Cell: Clean Up Prompt\n",
        "# @title 1️⃣ Clean Up Prompt\n",
        "# @markdown This cell removes text inside chevrons (like <LoRA:_> triggers) and removes weights, including their brackets.\n",
        "\n",
        "input_prompt = \"\"  # @param {type:\"string\"}\n",
        "\n",
        "def clean_up_prompt(input_prompt):\n",
        "    # 1. Remove chevrons (< and >) and all text inside them\n",
        "    cleaned_prompt = re.sub(r'<.*?>', '', input_prompt)\n",
        "\n",
        "    # 2. Remove weights from tags in brackets, e.g., (collarbone:1.4) -> (collarbone)\n",
        "    cleaned_prompt = re.sub(r'\\(([^:]*):[^\\)]*\\)', r'(\\1)', cleaned_prompt)\n",
        "\n",
        "    # 3. Remove brackets unless preceded by a backslash (\\)\n",
        "    cleaned_prompt = re.sub(r'(?<!\\\\)\\(', '', cleaned_prompt)\n",
        "    cleaned_prompt = re.sub(r'(?<!\\\\)\\)', '', cleaned_prompt)\n",
        "\n",
        "    # 4. Remove any double spaces between tags\n",
        "    cleaned_prompt = re.sub(r'\\s{2,}', ' ', cleaned_prompt)\n",
        "\n",
        "    return cleaned_prompt\n",
        "\n",
        "# Clean the input prompt\n",
        "cleaned_prompt = clean_up_prompt(input_prompt)\n",
        "print(\"Cleaned Prompt:\")\n",
        "\n",
        "if only_cut_after_complete_tags:\n",
        "    output_lines = []\n",
        "    current_line = \"\"\n",
        "    for tag in cleaned_prompt.split(', '):\n",
        "        if len(current_line) + len(tag) + 2 <= newline_threshold:\n",
        "            current_line += (', ' if current_line else '') + tag\n",
        "        else:\n",
        "            current_line = current_line.rstrip(', ') + ','  # Ensure last tag in the line ends with a comma\n",
        "            output_lines.append(current_line)\n",
        "            current_line = tag\n",
        "    if current_line:\n",
        "        current_line = current_line.rstrip(', ')  # Remove trailing commas after processing all lines\n",
        "        output_lines.append(current_line)\n",
        "    cleaned_output = '\\n'.join(output_lines)\n",
        "else:\n",
        "    cleaned_output = '\\n'.join([cleaned_prompt[i:i + newline_threshold] for i in range(0, len(cleaned_prompt), newline_threshold)])\n",
        "\n",
        "print(cleaned_output)\n",
        "\n",
        "# Display a copy-to-clipboard button (for Jupyter Notebooks or compatible environments)\n",
        "from IPython.core.display import HTML\n",
        "display(HTML(f\"\"\"\n",
        "    <button onclick=\"navigator.clipboard.writeText('{cleaned_output}')\">Copy to Clipboard</button>\n",
        "\"\"\"))\n"
      ],
      "metadata": {
        "colab": {
          "base_uri": "https://localhost:8080/",
          "height": 73
        },
        "cellView": "form",
        "id": "uw-wIm8mingY",
        "outputId": "4620675b-eb15-4db1-ad7b-60178f76f085"
      },
      "execution_count": 184,
      "outputs": [
        {
          "output_type": "stream",
          "name": "stdout",
          "text": [
            "Cleaned Prompt:\n",
            "\n"
          ]
        },
        {
          "output_type": "display_data",
          "data": {
            "text/plain": [
              "<IPython.core.display.HTML object>"
            ],
            "text/html": [
              "\n",
              "    <button onclick=\"navigator.clipboard.writeText('')\">Copy to Clipboard</button>\n"
            ]
          },
          "metadata": {}
        }
      ]
    },
    {
      "cell_type": "markdown",
      "source": [
        "\n",
        "\n",
        "\n",
        "\n",
        "---\n",
        "\n",
        "\n"
      ],
      "metadata": {
        "id": "cROH-Eam2NkH"
      }
    },
    {
      "cell_type": "code",
      "source": [
        "# Second Cell: Remove Quality, Source and Score Tags\n",
        "# @title 2️⃣ Remove Quality, Source, and Score Tags\n",
        "# @markdown This cell removes score_, source_, quality tags, and date tags.\n",
        "\n",
        "def remove_quality_source_tags(cleaned_prompt):\n",
        "    # 1. Remove all score_ and source_ prompts\n",
        "    cleaned_prompt = re.sub(r'\\b(score_|source_)[^,\\s]*[\\s,]*', '', cleaned_prompt)\n",
        "\n",
        "    # 2. Remove all quality tags used by danbooru\n",
        "    quality_tags = [\"masterpiece\", \"best quality\"]\n",
        "    for tag in quality_tags:\n",
        "        cleaned_prompt = cleaned_prompt.replace(tag, '')\n",
        "\n",
        "    # 3. Remove all date tags like Year Range\n",
        "    date_tags = [\"old\", \"early\", \"mid\", \"recent\", \"newest\"]\n",
        "    for tag in date_tags:\n",
        "        cleaned_prompt = cleaned_prompt.replace(tag, '')\n",
        "\n",
        "    # Clean up extra spaces and commas left behind\n",
        "    cleaned_prompt = re.sub(r',\\s*', ', ', cleaned_prompt).strip(', ')  # Remove trailing commas\n",
        "    cleaned_prompt = re.sub(r'\\s+', ' ', cleaned_prompt).strip()  # Remove excess spaces\n",
        "\n",
        "    return cleaned_prompt\n",
        "\n",
        "cleaned_prompt = remove_quality_source_tags(cleaned_prompt)\n",
        "if only_cut_after_complete_tags:\n",
        "    output_lines = []\n",
        "    current_line = \"\"\n",
        "for tag in cleaned_prompt.split(', '):\n",
        "    if len(current_line) + len(tag) + 2 <= newline_threshold:\n",
        "        current_line += (', ' if current_line else '') + tag\n",
        "    else:\n",
        "        current_line = current_line.rstrip(', ') + ','  # Make sure last tag in line ends with a comma\n",
        "        output_lines.append(current_line)\n",
        "        current_line = tag\n",
        "if current_line:\n",
        "    current_line = current_line.rstrip(', ')  # Remove any trailing commas after processing all lines\n",
        "    output_lines.append(current_line)\n",
        "    cleaned_output = '\\n'.join(output_lines)\n",
        "else:\n",
        "    cleaned_output = '\\n'.join([cleaned_prompt[i:i + newline_threshold] for i in range(0, len(cleaned_prompt), newline_threshold)])\n",
        "\n",
        "print(\"Cleaned Prompt:\")\n",
        "print(cleaned_output)\n",
        "\n",
        "display(HTML(f\"\"\"\n",
        "    <button onclick=\"navigator.clipboard.writeText('{cleaned_prompt}')\">Copy to Clipboard</button>\n",
        "\"\"\"))"
      ],
      "metadata": {
        "colab": {
          "base_uri": "https://localhost:8080/",
          "height": 73
        },
        "cellView": "form",
        "id": "fXynX0bSirV1",
        "outputId": "3c5353f2-e239-4f94-94ca-e4574d658ca1"
      },
      "execution_count": 185,
      "outputs": [
        {
          "output_type": "stream",
          "name": "stdout",
          "text": [
            "Cleaned Prompt:\n",
            "\n"
          ]
        },
        {
          "output_type": "display_data",
          "data": {
            "text/plain": [
              "<IPython.core.display.HTML object>"
            ],
            "text/html": [
              "\n",
              "    <button onclick=\"navigator.clipboard.writeText('')\">Copy to Clipboard</button>\n"
            ]
          },
          "metadata": {}
        }
      ]
    },
    {
      "cell_type": "markdown",
      "source": [
        "\n",
        "\n",
        "---\n",
        "\n"
      ],
      "metadata": {
        "id": "BscheHmA2UdN"
      }
    },
    {
      "cell_type": "code",
      "source": [
        "# Third Cell: Format to Danbooru Input\n",
        "# @title 3️⃣ Format to Danbooru Input\n",
        "# @markdown This cell replaces spaces in tags with underscores, removes commas, and removes backslashes (\\).\n",
        "\n",
        "def format_to_danbooru_input(cleaned_prompt):\n",
        "    # 1. Replace the spaces in every individual tag with underscores (_)\n",
        "    tags = cleaned_prompt.split(', ')\n",
        "    tags = [tag.strip().replace(' ', '_') for tag in tags]\n",
        "\n",
        "    # 2. Remove every backslash\n",
        "    tags = [tag.replace('\\\\', '') for tag in tags]\n",
        "\n",
        "    # 3. Remove every comma\n",
        "    formatted_prompt = ' '.join(tags)\n",
        "\n",
        "    return formatted_prompt\n",
        "\n",
        "# Format the cleaned prompt for Danbooru\n",
        "formatted_prompt = format_to_danbooru_input(cleaned_prompt)\n",
        "print(\"Formatted Prompt for Danbooru:\")\n",
        "\n",
        "if only_cut_after_complete_tags:\n",
        "    output_lines = []\n",
        "    current_line = \"\"\n",
        "    for tag in formatted_prompt.split(' '):\n",
        "        if len(current_line) + len(tag) + 1 <= newline_threshold:  # Use 1 instead of 2 since there's no comma\n",
        "            current_line += (' ' if current_line else '') + tag\n",
        "        else:\n",
        "            output_lines.append(current_line)\n",
        "            current_line = tag\n",
        "    if current_line:\n",
        "        output_lines.append(current_line)\n",
        "    formatted_output = '\\n'.join(output_lines)\n",
        "else:\n",
        "    formatted_output = '\\n'.join([formatted_prompt[i:i + newline_threshold] for i in range(0, len(formatted_prompt), newline_threshold)])\n",
        "\n",
        "print(formatted_output)\n",
        "\n",
        "# Display a copy-to-clipboard button (for Jupyter Notebooks or compatible environments)\n",
        "from IPython.core.display import HTML\n",
        "display(HTML(f\"\"\"\n",
        "    <button onclick=\"navigator.clipboard.writeText('{formatted_output}')\">Copy to Clipboard</button>\n",
        "\"\"\"))\n"
      ],
      "metadata": {
        "colab": {
          "base_uri": "https://localhost:8080/",
          "height": 73
        },
        "cellView": "form",
        "id": "iaN4Phhzjl_K",
        "outputId": "81bd7da6-0b36-4cac-e9e5-24013eb56157"
      },
      "execution_count": 186,
      "outputs": [
        {
          "output_type": "stream",
          "name": "stdout",
          "text": [
            "Formatted Prompt for Danbooru:\n",
            "\n"
          ]
        },
        {
          "output_type": "display_data",
          "data": {
            "text/plain": [
              "<IPython.core.display.HTML object>"
            ],
            "text/html": [
              "\n",
              "    <button onclick=\"navigator.clipboard.writeText('')\">Copy to Clipboard</button>\n"
            ]
          },
          "metadata": {}
        }
      ]
    },
    {
      "cell_type": "markdown",
      "source": [
        "\n",
        "\n",
        "---\n",
        "\n"
      ],
      "metadata": {
        "id": "BwA5pCfv2Wh2"
      }
    },
    {
      "cell_type": "code",
      "source": [
        "# Fourth Cell: List Unsupported Tags\n",
        "# @title 4️⃣ List unsupported and unknown Tags\n",
        "# @markdown This cell lists unsupported or deprecated tags based on a CSV file containing selected tags. Chose the output:\n",
        "\n",
        "output_option = \"C - Both A and B\" # @param [\"A - Only return unsupported and unknown tags\", \"B - Return set of tags without unsupported and unknown tags\", \"C - Both A and B\"]\n",
        "\n",
        "def check_tags_against_csv(formatted_prompt, option):\n",
        "    # Load selected tags from CSV\n",
        "    # @markdown Chose a custom CSV to compare your tags to. A Tag will be listed as unsupported if it can't be found inside this CSV.\n",
        "    # Default = https://huggingface.co/SmilingWolf/wd-vit-large-tagger-v3/raw/main/selected_tags.csv\n",
        "    csv_url = \"https://huggingface.co/SmilingWolf/wd-vit-large-tagger-v3/raw/main/selected_tags.csv\" # @param {type:\"string\"}\n",
        "    url = csv_url\n",
        "    selected_tags = pd.read_csv(url)['name'].tolist()\n",
        "\n",
        "    # Split tags from formatted prompt\n",
        "    tags = formatted_prompt.split(' ')\n",
        "\n",
        "    unsupported_tags = []\n",
        "    supported_tags = []\n",
        "\n",
        "    # Check each tag against the list of selected tags\n",
        "    for tag in tags:\n",
        "        if tag not in selected_tags:\n",
        "            unsupported_tags.append(tag)\n",
        "        else:\n",
        "            supported_tags.append(tag)\n",
        "\n",
        "    if option == \"A - Only return unsupported and unknown tags\" or option == \"C - Both A and B\":\n",
        "        # Only return unsupported and unknown tags\n",
        "        if unsupported_tags:\n",
        "            unsupported_output = \"Unsupported Tags: \" + ' '.join(unsupported_tags)\n",
        "\n",
        "            if only_cut_after_complete_tags:\n",
        "                output_lines = []\n",
        "                current_line = \"\"\n",
        "                for tag in unsupported_tags:\n",
        "                    if len(current_line) + len(tag) + 2 <= newline_threshold:\n",
        "                        current_line += (' ' if current_line else '') + tag\n",
        "                    else:\n",
        "                        output_lines.append(current_line)\n",
        "                        current_line = tag\n",
        "                if current_line:\n",
        "                    output_lines.append(current_line)\n",
        "                unsupported_output = '\\n'.join(output_lines)\n",
        "            else:\n",
        "                unsupported_output = '\\n'.join([unsupported_output[i:i + newline_threshold] for i in range(0, len(unsupported_output), newline_threshold)])\n",
        "\n",
        "            print(\"Unsupported Tags:\")\n",
        "            print(unsupported_output)\n",
        "            display(HTML(f\"\"\"\n",
        "                <button onclick=\"navigator.clipboard.writeText('{ ' '.join(unsupported_tags) }')\">Copy to Clipboard</button>\n",
        "            \"\"\"))\n",
        "        else:\n",
        "            print(\"No unsupported tags found.\")\n",
        "\n",
        "    if option == \"B - Return set of tags without unsupported and unknown tags\" or option == \"C - Both A and B\":\n",
        "        # Return set of tags without unsupported and unknown tags\n",
        "        if supported_tags:\n",
        "            supported_output = \"Supported Tags: \" + ' '.join(supported_tags)\n",
        "\n",
        "            if only_cut_after_complete_tags:\n",
        "                output_lines = []\n",
        "                current_line = \"\"\n",
        "                for tag in supported_tags:\n",
        "                    if len(current_line) + len(tag) + 2 <= newline_threshold:\n",
        "                        current_line += (' ' if current_line else '') + tag\n",
        "                    else:\n",
        "                        output_lines.append(current_line)\n",
        "                        current_line = tag\n",
        "                if current_line:\n",
        "                    output_lines.append(current_line)\n",
        "                supported_output = '\\n'.join(output_lines)\n",
        "            else:\n",
        "                supported_output = '\\n'.join([supported_output[i:i + newline_threshold] for i in range(0, len(supported_output), newline_threshold)])\n",
        "\n",
        "            print(\"Supported Tags:\")\n",
        "            print(supported_output)\n",
        "            display(HTML(f\"\"\"\n",
        "                <button onclick=\"navigator.clipboard.writeText('{ ' '.join(supported_tags) }')\">Copy to Clipboard</button>\n",
        "            \"\"\"))\n",
        "\n",
        "# Use the formatted prompt from the previous cell\n",
        "check_tags_against_csv(formatted_prompt, output_option)\n"
      ],
      "metadata": {
        "colab": {
          "base_uri": "https://localhost:8080/",
          "height": 73
        },
        "cellView": "form",
        "id": "fNlo2ijRjpE-",
        "outputId": "30a92b97-ef0c-4af3-c059-e9125ac73e3c"
      },
      "execution_count": 187,
      "outputs": [
        {
          "output_type": "stream",
          "name": "stdout",
          "text": [
            "Unsupported Tags:\n",
            "\n"
          ]
        },
        {
          "output_type": "display_data",
          "data": {
            "text/plain": [
              "<IPython.core.display.HTML object>"
            ],
            "text/html": [
              "\n",
              "                <button onclick=\"navigator.clipboard.writeText('')\">Copy to Clipboard</button>\n",
              "            "
            ]
          },
          "metadata": {}
        }
      ]
    },
    {
      "cell_type": "markdown",
      "source": [
        "\n",
        "\n",
        "---\n",
        "\n"
      ],
      "metadata": {
        "id": "MgWVc_Kt2X1T"
      }
    },
    {
      "cell_type": "markdown",
      "source": [
        "## ✨✨✨ **Extras & Curate Tags** ✨✨✨"
      ],
      "metadata": {
        "id": "-epIAz4Cb0cu"
      }
    },
    {
      "cell_type": "code",
      "source": [
        "# Add Tags to Danbooru Tags Cell\n",
        "# @title ➕ Add Tags to Danbooru Tags\n",
        "# @markdown This cell accepts a Danbooru tag list from the user and allows them to add additional tags.\n",
        "\n",
        "# @markdown Check this box to reuse the result of this cell for the next run. It will not add it to the input_tags visually though, but will do it in the background.\n",
        "reuse_result = False # @param {type:\"boolean\"}\n",
        "\n",
        "# @markdown Enter your Danbooru tag list here. Use to copy to clipboard from above cells if you want to use their outputs.\n",
        "if not reuse_result:\n",
        "    input_tags = \"\" # @param {type:\"string\"}\n",
        "\n",
        "# @markdown Enter additional tags to add to end of the existing tag list:\n",
        "additional_tags = \"\" # @param {type:\"string\"}\n",
        "\n",
        "def add_tags(input_tags, additional_tags):\n",
        "    # Split input tags and additional tags into lists\n",
        "    base_tags = input_tags.split(' ')\n",
        "    tags_to_add = additional_tags.split(' ') if additional_tags else []\n",
        "\n",
        "    # Combine and remove duplicates, keeping order\n",
        "    final_tags = base_tags + [tag for tag in tags_to_add if tag not in base_tags]\n",
        "\n",
        "    # Create the final prompt\n",
        "    final_prompt = ' '.join(final_tags)\n",
        "    return final_prompt\n",
        "\n",
        "# Get the final prompt based on user input\n",
        "if reuse_result:\n",
        "    input_tags = final_prompt\n",
        "final_prompt = add_tags(input_tags, additional_tags)\n",
        "\n",
        "# Update input_tags to include the additional tags\n",
        "input_tags = final_prompt\n",
        "\n",
        "print(\"Final Prompt After Adding Tags:\")\n",
        "if only_cut_after_complete_tags:\n",
        "    output_lines = []\n",
        "    current_line = \"\"\n",
        "    for tag in final_prompt.split(' '):\n",
        "        if len(current_line) + len(tag) + 1 <= newline_threshold:\n",
        "            current_line += (' ' if current_line else '') + tag\n",
        "        else:\n",
        "            output_lines.append(current_line)\n",
        "            current_line = tag\n",
        "    if current_line:\n",
        "        output_lines.append(current_line)\n",
        "    cleaned_output = '\\n'.join(output_lines)\n",
        "else:\n",
        "    cleaned_output = '\\n'.join([final_prompt[i:i + newline_threshold] for i in range(0, len(final_prompt), newline_threshold)])\n",
        "\n",
        "print(cleaned_output)\n",
        "\n",
        "display(HTML(f\"\"\"\n",
        "    <button onclick=\"navigator.clipboard.writeText('{final_prompt}')\">Copy to Clipboard</button>\n",
        "\"\"\"))\n"
      ],
      "metadata": {
        "colab": {
          "base_uri": "https://localhost:8080/",
          "height": 73
        },
        "cellView": "form",
        "id": "6PJEQbvHB4sU",
        "outputId": "f056b04b-4839-4ddb-ad4a-d0ad3dac33d0"
      },
      "execution_count": 196,
      "outputs": [
        {
          "output_type": "stream",
          "name": "stdout",
          "text": [
            "Final Prompt After Adding Tags:\n",
            "\n"
          ]
        },
        {
          "output_type": "display_data",
          "data": {
            "text/plain": [
              "<IPython.core.display.HTML object>"
            ],
            "text/html": [
              "\n",
              "    <button onclick=\"navigator.clipboard.writeText('')\">Copy to Clipboard</button>\n"
            ]
          },
          "metadata": {}
        }
      ]
    },
    {
      "cell_type": "markdown",
      "source": [
        "\n",
        "\n",
        "---\n",
        "\n"
      ],
      "metadata": {
        "id": "bWxtO3c7WcgQ"
      }
    },
    {
      "cell_type": "code",
      "source": [
        "# Remove Tags from Danbooru Tags Cell\n",
        "# @title ➖ Remove Tags from Danbooru Tags\n",
        "\n",
        "# @markdown Check this box to reuse the result of this cell for the next run. It will not remove it from the input_tags visually though, but will do it in the background.\n",
        "reuse_result = False # @param {type:\"boolean\"}\n",
        "# @markdown This cell accepts a Danbooru tag list from the user and allows them to remove specific tags.\n",
        "\n",
        "# @markdown Enter your Danbooru tag list here. Use to copy to clipboard from above cells if you want to use their outputs.\n",
        "input_tags = \"\" # @param {type:\"string\"}\n",
        "\n",
        "# @markdown Enter tags to remove from the existing tag list. Multiple tags can be separated by spaces.\n",
        "tags_to_remove = \"\" # @param {type:\"string\"}\n",
        "\n",
        "def remove_tags(input_tags, tags_to_remove):\n",
        "    # Split input tags and tags to remove into lists\n",
        "    base_tags = input_tags.split(' ')\n",
        "    tags_to_remove = tags_to_remove.split(' ') if tags_to_remove else []\n",
        "\n",
        "    # Remove only exact matches\n",
        "    final_tags = [tag for tag in base_tags if tag not in tags_to_remove]\n",
        "\n",
        "    # Create the final prompt\n",
        "    final_prompt = ' '.join(final_tags)\n",
        "    return final_prompt\n",
        "\n",
        "# Get the final prompt based on user input\n",
        "if reuse_result:\n",
        "    input_tags = final_prompt\n",
        "final_prompt = remove_tags(input_tags, tags_to_remove)\n",
        "\n",
        "# Corrected lines for all relevant cells where '\\n' was not properly formatted.\n",
        "\n",
        "print(\"Final Prompt After Removing Tags:\")\n",
        "if only_cut_after_complete_tags:\n",
        "    output_lines = []\n",
        "    current_line = \"\"\n",
        "    for tag in final_prompt.split(' '):\n",
        "        if len(current_line) + len(tag) + 1 <= newline_threshold:\n",
        "            current_line += (' ' if current_line else '') + tag\n",
        "        else:\n",
        "            output_lines.append(current_line)\n",
        "            current_line = tag\n",
        "    if current_line:\n",
        "        output_lines.append(current_line)\n",
        "    cleaned_output = '\\n'.join(output_lines)  # Fixed to correctly use a properly formatted newline character\n",
        "else:\n",
        "    cleaned_output = '\\n'.join([final_prompt[i:i + newline_threshold] for i in range(0, len(final_prompt), newline_threshold)])\n",
        "\n",
        "print(cleaned_output)\n",
        "\n",
        "display(HTML(f\"\"\"\n",
        "    <button onclick=\"navigator.clipboard.writeText('{final_prompt}')\">Copy to Clipboard</button>\n",
        "\"\"\"))"
      ],
      "metadata": {
        "colab": {
          "base_uri": "https://localhost:8080/",
          "height": 73
        },
        "cellView": "form",
        "id": "HMt5K2EFTGlx",
        "outputId": "0cf08f69-f6b9-4688-e00b-29f907424b1d"
      },
      "execution_count": 189,
      "outputs": [
        {
          "output_type": "stream",
          "name": "stdout",
          "text": [
            "Final Prompt After Removing Tags:\n",
            "\n"
          ]
        },
        {
          "output_type": "display_data",
          "data": {
            "text/plain": [
              "<IPython.core.display.HTML object>"
            ],
            "text/html": [
              "\n",
              "    <button onclick=\"navigator.clipboard.writeText('')\">Copy to Clipboard</button>\n"
            ]
          },
          "metadata": {}
        }
      ]
    },
    {
      "cell_type": "markdown",
      "source": [
        "\n",
        "\n",
        "---\n",
        "\n"
      ],
      "metadata": {
        "id": "Y4uPZI7XWdyJ"
      }
    },
    {
      "cell_type": "code",
      "source": [
        "# Sort Tags Alphabetically Cell\n",
        "# @title 🔤 Sort Tags Alphabetically\n",
        "# @markdown This cell allows you to sort the tags alphabetically.\n",
        "\n",
        "# @markdown Enter your Danbooru tag list here:\n",
        "input_tags = \"\"  # @param {type:\"string\"}\n",
        "\n",
        "def sort_tags_alphabetically(input_tags):\n",
        "    # Split input tags into a list and sort alphabetically\n",
        "    tags = input_tags.split(' ')\n",
        "    sorted_tags = sorted(tags)\n",
        "\n",
        "    # Create the final prompt\n",
        "    final_prompt = ' '.join(sorted_tags)\n",
        "    return final_prompt\n",
        "\n",
        "# Get the final prompt based on user input\n",
        "final_prompt = sort_tags_alphabetically(input_tags)\n",
        "\n",
        "print(\"Final Prompt After Sorting Tags Alphabetically:\")\n",
        "if only_cut_after_complete_tags:\n",
        "    output_lines = []\n",
        "    current_line = \"\"\n",
        "    for tag in final_prompt.split(' '):\n",
        "        if len(current_line) + len(tag) + 1 <= newline_threshold:\n",
        "            current_line += (' ' if current_line else '') + tag\n",
        "        else:\n",
        "            output_lines.append(current_line)\n",
        "            current_line = tag\n",
        "    if current_line:\n",
        "        output_lines.append(current_line)\n",
        "    cleaned_output = '\\n'.join(output_lines)\n",
        "else:\n",
        "    cleaned_output = '\\n'.join([final_prompt[i:i + newline_threshold] for i in range(0, len(final_prompt), newline_threshold)])\n",
        "\n",
        "print(cleaned_output)\n",
        "\n",
        "# Display a button (requires a suitable environment like Jupyter Notebook)\n",
        "from IPython.core.display import HTML\n",
        "display(HTML(f\"\"\"\n",
        "    <button onclick=\"navigator.clipboard.writeText('{final_prompt}')\">Copy to Clipboard</button>\n",
        "\"\"\"))\n"
      ],
      "metadata": {
        "colab": {
          "base_uri": "https://localhost:8080/",
          "height": 73
        },
        "cellView": "form",
        "id": "gCXdvSf3UKr4",
        "outputId": "29efc904-ce15-4620-95af-622762d292df"
      },
      "execution_count": 197,
      "outputs": [
        {
          "output_type": "stream",
          "name": "stdout",
          "text": [
            "Final Prompt After Sorting Tags Alphabetically:\n",
            "\n"
          ]
        },
        {
          "output_type": "display_data",
          "data": {
            "text/plain": [
              "<IPython.core.display.HTML object>"
            ],
            "text/html": [
              "\n",
              "    <button onclick=\"navigator.clipboard.writeText('')\">Copy to Clipboard</button>\n"
            ]
          },
          "metadata": {}
        }
      ]
    },
    {
      "cell_type": "markdown",
      "source": [
        "\n",
        "\n",
        "---\n",
        "\n"
      ],
      "metadata": {
        "id": "r3ESMcTOWlBB"
      }
    },
    {
      "cell_type": "code",
      "source": [
        "# Clear Inputs/Outputs Cell\n",
        "# @title ✨ Clear All Inputs and Outputs\n",
        "# @markdown This cell resets all inputs and outputs to a clean state.\n",
        "\n",
        "def clear_all():\n",
        "    # Reset all global variables used across cells\n",
        "    global input_prompt, cleaned_prompt, formatted_prompt, final_prompt, input_tags, additional_tags, tags_to_remove, reuse_result\n",
        "\n",
        "    input_prompt = \"\"\n",
        "    cleaned_prompt = \"\"\n",
        "    formatted_prompt = \"\"\n",
        "    final_prompt = \"\"\n",
        "    input_tags = \"\"\n",
        "    additional_tags = \"\"\n",
        "    tags_to_remove = \"\"\n",
        "\n",
        "    print(\"All inputs and outputs have been cleared.\")\n",
        "\n",
        "clear_all()"
      ],
      "metadata": {
        "colab": {
          "base_uri": "https://localhost:8080/"
        },
        "cellView": "form",
        "id": "0frpiww8lWFd",
        "outputId": "c2166e7e-3d60-4d33-eeb6-b9b864318eff"
      },
      "execution_count": 198,
      "outputs": [
        {
          "output_type": "stream",
          "name": "stdout",
          "text": [
            "All inputs and outputs have been cleared.\n"
          ]
        }
      ]
    }
  ]
}